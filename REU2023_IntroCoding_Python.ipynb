{
 "cells": [
  {
   "cell_type": "markdown",
   "id": "ccd8ac3c",
   "metadata": {},
   "source": [
    "# Python Basics\n",
    "This is adapted from Alex Robel's coding tutorial, found here: https://github.com/aarobel/PracticalCodingMath4EAS/blob/main/Python_basics.ipynb.\n",
    "\n",
    "This is a Jupyter notebook that takes you through many basic commands and concepts in Python. To execute through this notebook, use up and down arrows to move between sections (highlight in a blue box when you are in them) and then press CTLR-Enter. Output (if there is any) shows up on under each executed cell."
   ]
  },
  {
   "cell_type": "code",
   "execution_count": null,
   "id": "8a50b05d",
   "metadata": {},
   "outputs": [],
   "source": [
    "#import sys\n",
    "#!{sys.executable} -m pip install matplotlib\n",
    "#!{sys.executable} -m pip install scipy"
   ]
  },
  {
   "cell_type": "markdown",
   "id": "716c1337",
   "metadata": {},
   "source": [
    "## Loading Packages"
   ]
  },
  {
   "cell_type": "markdown",
   "id": "4201428c",
   "metadata": {},
   "source": [
    "While there are many built in functions in the basic Python environment, for much of the functionality that you might use, you must install and load in packages. Anaconda, which you can download and setup fairly easily has many \"standard\" packages already in its environment. Once you start to do fancier or more non-standard things, you may need to install new packages, which is generally straightforward to do using the \"conda install\" command on the command line (this can also be done though the Anaconda GUI). For scientific computing and basic plotting, the most useful packages are numpy, matplotlib and scipy. These are all part of the standard anaconda environment."
   ]
  },
  {
   "cell_type": "code",
   "execution_count": null,
   "id": "a93912ae",
   "metadata": {},
   "outputs": [],
   "source": [
    "import numpy as np\n",
    "import matplotlib.pyplot as plt\n",
    "import scipy\n",
    "import math"
   ]
  },
  {
   "cell_type": "markdown",
   "id": "e09bf8e7",
   "metadata": {},
   "source": [
    "## Executing Commands"
   ]
  },
  {
   "cell_type": "markdown",
   "id": "ab10f67d",
   "metadata": {},
   "source": [
    "In normal python code (not a notebook like this) output is automatically supressed. In a notebook all output except the last line of a cell is suppressed. Otherwise, basic arithmetic syntax is the same as MATLAB, except for exponents."
   ]
  },
  {
   "cell_type": "code",
   "execution_count": null,
   "id": "5c32439c",
   "metadata": {},
   "outputs": [],
   "source": [
    "3*5 # Do basic arithmetic and see output"
   ]
  },
  {
   "cell_type": "code",
   "execution_count": null,
   "id": "64ba26d2",
   "metadata": {},
   "outputs": [],
   "source": [
    "3*5\n",
    "8**2 # Only see output of the last cell (this is the case in Jupyter notebooks)"
   ]
  },
  {
   "cell_type": "code",
   "execution_count": null,
   "id": "6747f300",
   "metadata": {},
   "outputs": [],
   "source": [
    "# Example: Showing output\n",
    "\n",
    "ice_velocity_yrs = 1500 # meters per year\n",
    "seconds_per_year = 3.15e7\n",
    "ice_velocity_seconds = ice_velocity_yrs*seconds_per_year # in meters per second\n",
    "ice_velocity_seconds"
   ]
  },
  {
   "cell_type": "markdown",
   "id": "700be0b3",
   "metadata": {},
   "source": [
    "## Assign variables and data types"
   ]
  },
  {
   "cell_type": "markdown",
   "id": "57673145",
   "metadata": {},
   "source": [
    "Python is more strict about data types (particularly numbers) than MATLAB. In MATLAB integers and doubles will often be automatically converted by a function depending on what is needed. In Python, many functions require inputs to be one or the other and will give errors if you are not careful with input type"
   ]
  },
  {
   "cell_type": "code",
   "execution_count": null,
   "id": "aaa17758",
   "metadata": {},
   "outputs": [],
   "source": [
    "a1=3\n",
    "a1"
   ]
  },
  {
   "cell_type": "code",
   "execution_count": null,
   "id": "8b49fcb7",
   "metadata": {},
   "outputs": [],
   "source": [
    "a2=3.0\n",
    "a2"
   ]
  },
  {
   "cell_type": "code",
   "execution_count": null,
   "id": "148efe4c",
   "metadata": {},
   "outputs": [],
   "source": [
    "a3 = 'hello'\n",
    "a3"
   ]
  },
  {
   "cell_type": "code",
   "execution_count": null,
   "id": "82f09fe9",
   "metadata": {},
   "outputs": [],
   "source": [
    "a4 = True #be careful to capitalize logical types in Python\n",
    "a4"
   ]
  },
  {
   "cell_type": "code",
   "execution_count": null,
   "id": "799e7744",
   "metadata": {},
   "outputs": [],
   "source": [
    "a5 = [1,5,9]\n",
    "a5"
   ]
  },
  {
   "cell_type": "markdown",
   "id": "46e0db30",
   "metadata": {},
   "source": [
    "To do column vector and fancier array algebra, you need to define a numpy array which has more capabilities than the basic Python row vector"
   ]
  },
  {
   "cell_type": "code",
   "execution_count": null,
   "id": "b42fe6f3",
   "metadata": {},
   "outputs": [],
   "source": [
    "a6 = np.array([[1, 5, 9]]).T\n",
    "a6"
   ]
  },
  {
   "cell_type": "code",
   "execution_count": null,
   "id": "521c82d8",
   "metadata": {},
   "outputs": [],
   "source": [
    "a7 = np.array([[2,4,6], [8,10,12]])\n",
    "a7"
   ]
  },
  {
   "cell_type": "markdown",
   "id": "74b9d2a0",
   "metadata": {},
   "source": [
    "## Creating useful vectors/matrices"
   ]
  },
  {
   "cell_type": "markdown",
   "id": "a8b3f49d",
   "metadata": {},
   "source": [
    "arange is the Python equivalent of the colon in MATLAB. BUT: Python indexing is not inclusive of the ending index (more on indexing in the next section)"
   ]
  },
  {
   "cell_type": "code",
   "execution_count": null,
   "id": "bfaf505f",
   "metadata": {},
   "outputs": [],
   "source": [
    "b1 = np.arange(2,9)\n",
    "b1"
   ]
  },
  {
   "cell_type": "code",
   "execution_count": null,
   "id": "611074d5",
   "metadata": {},
   "outputs": [],
   "source": [
    "b2 = np.arange(2,8.5,0.5)\n",
    "b2"
   ]
  },
  {
   "cell_type": "code",
   "execution_count": null,
   "id": "c3e16585",
   "metadata": {},
   "outputs": [],
   "source": [
    "# Example: When might we want to generate these kinds of vectors?\n",
    "\n",
    "river_length = 100 # 100 meter long river\n",
    "x_pos = np.arange(0,101,10)\n",
    "\n",
    "# How long is this array?\n",
    "len(x_pos)\n",
    "x_pos.shape\n",
    "\n",
    "# Define a velocity at each position along the river\n",
    "velocity = 0.25*np.sin(x_pos/10)+10\n",
    "\n",
    "plt.plot(x_pos,velocity,color='gray',linewidth=2)\n",
    "plt.xlabel('Position Along River (meters)')\n",
    "plt.ylabel('Flow Velocity (meters/second)')\n",
    "plt.grid()\n",
    "plt.title('Velocity Along REU River')\n",
    "plt.show()\n",
    "\n",
    "plt.scatter(x_pos,velocity,c = 'gray',s=40)\n",
    "plt.xlabel('Position Along River (meters)')\n",
    "plt.ylabel('Flow Velocity (meters/second)')\n",
    "plt.grid()\n",
    "plt.title('Velocity Along REU River')\n",
    "plt.show()\n"
   ]
  },
  {
   "cell_type": "code",
   "execution_count": null,
   "id": "16cdccc0",
   "metadata": {},
   "outputs": [],
   "source": [
    "b3 = np.linspace(0.4,8.2,10)\n",
    "b3\n",
    "\n",
    "b3b = np.logspace(1,4,10)\n",
    "b3b"
   ]
  },
  {
   "cell_type": "code",
   "execution_count": null,
   "id": "52711044",
   "metadata": {},
   "outputs": [],
   "source": [
    "b4 = np.zeros([10,11])\n",
    "b4"
   ]
  },
  {
   "cell_type": "code",
   "execution_count": null,
   "id": "d3777f8e",
   "metadata": {},
   "outputs": [],
   "source": [
    "b5 = np.ones([10,11])\n",
    "b5"
   ]
  },
  {
   "cell_type": "markdown",
   "id": "ac2f40b5",
   "metadata": {},
   "source": [
    "numpy has some functions that are not imported by default, like those contained in matlib, these need to be imported separately"
   ]
  },
  {
   "cell_type": "code",
   "execution_count": null,
   "id": "5408bcd1",
   "metadata": {},
   "outputs": [],
   "source": [
    "import numpy.matlib\n",
    "b6 = np.matlib.repmat(b1, 2, 2)\n",
    "b6"
   ]
  },
  {
   "cell_type": "code",
   "execution_count": null,
   "id": "902d9098",
   "metadata": {},
   "outputs": [],
   "source": [
    "[b7,b8] = np.meshgrid(b2, b3, sparse=False, indexing='ij') #need to specify type of indexing in Python's meshgrid, ij is most common, and the same as matlab\n",
    "b7"
   ]
  },
  {
   "cell_type": "markdown",
   "id": "c99f43e9",
   "metadata": {},
   "source": [
    "## Indexing"
   ]
  },
  {
   "cell_type": "markdown",
   "id": "c6acd4f2",
   "metadata": {},
   "source": [
    "Indexing is one of the biggest differences between Python and MATLAB. Python is zero-indexed, which means that the first element of vector or array is indexed as '0'. Also, to reference an index in a Python array one uses square brackets '[]', whereas parenthesis '()' are only used to call functions. There are some other key differences which are explored in examples here"
   ]
  },
  {
   "cell_type": "code",
   "execution_count": null,
   "id": "3543466a",
   "metadata": {},
   "outputs": [],
   "source": [
    "c1 = b6[1,2]\n",
    "c1"
   ]
  },
  {
   "cell_type": "code",
   "execution_count": null,
   "id": "1ec7d16e",
   "metadata": {},
   "outputs": [],
   "source": [
    "c1 = b6[1,1]\n",
    "c1"
   ]
  },
  {
   "cell_type": "markdown",
   "id": "fb02ce1e",
   "metadata": {},
   "source": [
    "Another key difference is that when using vector indexing (i.e. with colons as you would in MATLAB), the indexing goes from the first index, and then up to BUT NOT INCLUDING the end index. So in the below example [0:2] yields a vector index including index 0 and 1, but not 2."
   ]
  },
  {
   "cell_type": "code",
   "execution_count": null,
   "id": "b2a0eaf1",
   "metadata": {},
   "outputs": [],
   "source": [
    "c2 = b6[0:2,0]\n",
    "c2"
   ]
  },
  {
   "cell_type": "code",
   "execution_count": null,
   "id": "0367d826",
   "metadata": {},
   "outputs": [],
   "source": [
    "c3 = b6[0:2,0:2]\n",
    "c3"
   ]
  },
  {
   "cell_type": "code",
   "execution_count": null,
   "id": "7be70800",
   "metadata": {},
   "outputs": [],
   "source": [
    "c4 = b6[0,-2] #-1 is used instead of \"end\" to indicate the last element along a dimension of an array\n",
    "c4"
   ]
  },
  {
   "cell_type": "code",
   "execution_count": null,
   "id": "bb1c5d62",
   "metadata": {},
   "outputs": [],
   "source": [
    "c5 = b6[0,b1-1]\n",
    "c5"
   ]
  },
  {
   "cell_type": "code",
   "execution_count": null,
   "id": "2e31fc92",
   "metadata": {},
   "outputs": [],
   "source": [
    "# Example: When would you need to index?\n",
    "\n",
    "velocity[0]\n",
    "\n",
    "plt.plot(x_pos[4:11],velocity[4:11],color='gray',linewidth=2)\n",
    "plt.xlabel('Position Along River (meters)')\n",
    "plt.ylabel('Flow Velocity (meters/second)')\n",
    "plt.grid()\n",
    "plt.title('Velocity Along REU River')\n",
    "plt.show()\n",
    "\n",
    "plt.plot(x_pos,velocity,color='gray',linewidth=2)\n",
    "plt.xlabel('Position Along River (meters)')\n",
    "plt.ylabel('Flow Velocity (meters/second)')\n",
    "plt.grid()\n",
    "plt.title('Velocity Along REU River')\n",
    "plt.xlim(x_pos[4],x_pos[-1])\n",
    "plt.show()\n"
   ]
  },
  {
   "cell_type": "markdown",
   "id": "2bfb591d",
   "metadata": {},
   "source": [
    "## Boolean/Logical Operations\n",
    "Mostly these work the same as in MATLAB, though booleans are stored as \"True\" and \"False\" indexing is a bit different"
   ]
  },
  {
   "cell_type": "code",
   "execution_count": null,
   "id": "c9b8b5b4",
   "metadata": {},
   "outputs": [],
   "source": [
    "2 < 5"
   ]
  },
  {
   "cell_type": "code",
   "execution_count": null,
   "id": "671f1184",
   "metadata": {},
   "outputs": [],
   "source": [
    "l1 = b1 < 5\n",
    "l1"
   ]
  },
  {
   "cell_type": "code",
   "execution_count": null,
   "id": "613b79c3",
   "metadata": {},
   "outputs": [],
   "source": [
    "l2 = b1[l1] #logical indexing mostly works the same as in MATLAB, but only works on numpy arrays\n",
    "l2"
   ]
  },
  {
   "cell_type": "code",
   "execution_count": null,
   "id": "6dc2efb6",
   "metadata": {},
   "outputs": [],
   "source": [
    "# Example: When would you need these logical operations?\n",
    "\n",
    "time = np.linspace(0,12,100)\n",
    "velocity_time = 5*np.sin(time/2)+10+np.random.randn(1,100)*3\n",
    "velocity_time[0,55] = 57.635\n",
    "velocity_time[0,22] = 43.583\n",
    "\n",
    "plt.scatter(time,velocity_time,s=40)\n",
    "plt.xlabel('Time (months)')\n",
    "plt.ylabel('River Velocity (meters/second)')\n",
    "plt.grid()\n",
    "plt.title('Velocity Over Time')\n",
    "plt.show()\n",
    "\n",
    "velocity_fix = velocity_time\n",
    "velocity_fix[velocity_time > 25] = np.nan\n",
    "\n",
    "plt.scatter(time,velocity_fix,s=40)\n",
    "plt.xlabel('Time (months)')\n",
    "plt.ylabel('River Velocity (meters/second)')\n",
    "plt.grid()\n",
    "plt.title('Velocity Over Time')\n",
    "plt.show()\n"
   ]
  },
  {
   "cell_type": "code",
   "execution_count": null,
   "id": "48ede106",
   "metadata": {},
   "outputs": [],
   "source": [
    "# Example: When would you need these logical operations?\n",
    "\n",
    "time = np.linspace(0,12*10,500)\n",
    "velocity_time = 5*np.sin(time/2)+10 + np.random.randn(1,500)*2;\n",
    "\n",
    "plt.scatter(time,velocity_time,s=40)\n",
    "plt.xlabel('Time (months)')\n",
    "plt.ylabel('River Velocity (meters/second)')\n",
    "plt.grid()\n",
    "plt.title('Velocity Over Time')\n",
    "plt.show()\n",
    "\n",
    "threshold = 12*np.ones(time.shape)\n",
    "\n",
    "plt.scatter(time,velocity_time,s=40)\n",
    "plt.plot(time,threshold,color='red',linewidth=2)\n",
    "plt.xlabel('Time (months)')\n",
    "plt.ylabel('River Velocity (meters/second)')\n",
    "plt.grid()\n",
    "plt.title('Velocity Over Time')\n",
    "plt.legend(['Data', 'Legend'])\n",
    "plt.show()\n",
    "\n",
    "idx = velocity_time > 12\n",
    "time[np.squeeze(idx)]\n",
    "time[np.squeeze(idx)]%12\n",
    "\n",
    "plt.scatter(time[np.squeeze(idx)],velocity_time[0,np.squeeze(idx)],s=40)\n",
    "plt.plot(time,threshold,color='red',linewidth=2)\n",
    "plt.ylim(0,25)\n",
    "plt.xlabel('Time (months)')\n",
    "plt.ylabel('River Velocity (meters/second)')\n",
    "plt.grid()\n",
    "plt.title('Velocity Over Time')\n",
    "plt.legend(['Data', 'Legend'])\n",
    "plt.show()\n",
    "\n",
    "plt.hist(time[np.squeeze(idx)]%12)\n",
    "plt.grid()\n",
    "plt.xlabel('Month in a Year')\n",
    "plt.xticks([0,1,2,3,4,5,6,7,8,9,10,11],['Jan','Feb','Mar','Apr','May','Jun','Jul','Aug','Sep','Oct','Nov','Dec'])\n",
    "plt.show()"
   ]
  },
  {
   "cell_type": "markdown",
   "id": "8b69abe6",
   "metadata": {},
   "source": [
    "As we will also see for loops below, conditional statements (if/else) do not have end like in MATLAB, BUT INDENTATION IS IMPORTANT AND ENFORCED IN PYTHON (compared to MATLAB where indentation does not play a role in code execution)"
   ]
  },
  {
   "cell_type": "code",
   "execution_count": null,
   "id": "427dcd2f",
   "metadata": {},
   "outputs": [],
   "source": [
    "if c1>5 : #use a colon to indicat the end of the logical condition\n",
    "    print('hurray!')\n",
    "elif c1<0 : #elif instead of else if\n",
    "    print('sure...')    \n",
    "else :\n",
    "    print('oh no!')"
   ]
  },
  {
   "cell_type": "code",
   "execution_count": null,
   "id": "bc9a9937",
   "metadata": {},
   "outputs": [],
   "source": [
    "l3 = (b1 < 5) & (b1 > 0)\n",
    "l3"
   ]
  },
  {
   "cell_type": "code",
   "execution_count": null,
   "id": "102d931c",
   "metadata": {},
   "outputs": [],
   "source": [
    "l4 = (b1 > 5) | (b1 < 0)\n",
    "l4"
   ]
  },
  {
   "cell_type": "markdown",
   "id": "b418ffcb",
   "metadata": {},
   "source": [
    "## Vector and matrix manipulation and arithmetic"
   ]
  },
  {
   "cell_type": "code",
   "execution_count": null,
   "id": "b200694c",
   "metadata": {},
   "outputs": [],
   "source": [
    "d1 = b6.transpose()\n",
    "d1"
   ]
  },
  {
   "cell_type": "code",
   "execution_count": null,
   "id": "16013b37",
   "metadata": {},
   "outputs": [],
   "source": [
    "d2 = np.sum(b6,axis=None)\n",
    "d2"
   ]
  },
  {
   "cell_type": "code",
   "execution_count": null,
   "id": "2adab5ef",
   "metadata": {},
   "outputs": [],
   "source": [
    "d3 = np.sum(b6,axis=1)\n",
    "d3"
   ]
  },
  {
   "cell_type": "code",
   "execution_count": null,
   "id": "c92f9041",
   "metadata": {},
   "outputs": [],
   "source": [
    "d4a = np.random.rand(2,14)\n",
    "d4 = b6*d4a #note the default in Python is elementwise multiplication with *\n",
    "d4"
   ]
  },
  {
   "cell_type": "code",
   "execution_count": null,
   "id": "724abd29",
   "metadata": {},
   "outputs": [],
   "source": [
    "d5a = np.random.rand(14,2)\n",
    "d5 = b6 @ d5a #for matrix multiplication use @\n",
    "d5"
   ]
  },
  {
   "cell_type": "code",
   "execution_count": null,
   "id": "151ae4c8",
   "metadata": {},
   "outputs": [],
   "source": [
    "d6a = np.random.rand(3,3)\n",
    "d6b = np.random.rand(3,1)\n",
    "x = np.linalg.lstsq(d6a,d6b,rcond=None)\n",
    "x"
   ]
  },
  {
   "cell_type": "markdown",
   "id": "0a61b8cf",
   "metadata": {},
   "source": [
    "## Loops"
   ]
  },
  {
   "cell_type": "code",
   "execution_count": null,
   "id": "8d2d01dd",
   "metadata": {},
   "outputs": [],
   "source": [
    "e1=0\n",
    "for i in np.arange(0,10) :   #for loop iterates over the vector i (from 0 to 9) with defined boundaries\n",
    "    e1 = e1 + (b3[i]**2) \n",
    "e1"
   ]
  },
  {
   "cell_type": "code",
   "execution_count": null,
   "id": "29eca9a5",
   "metadata": {},
   "outputs": [],
   "source": [
    "e2 = np.sum(b3**2)\n",
    "e2"
   ]
  },
  {
   "cell_type": "code",
   "execution_count": null,
   "id": "0743b896",
   "metadata": {},
   "outputs": [],
   "source": [
    "e3=0\n",
    "i=0\n",
    "while e3 < 10 :   #while loop iterates indeinfitely while a logical operation is still true\n",
    "    e3=e3 + (b3[i]**2) \n",
    "    i=i+1\n",
    "e3"
   ]
  },
  {
   "cell_type": "markdown",
   "id": "a8ddfd67",
   "metadata": {},
   "source": [
    "## Functions\n",
    "Lambda functions are used to anonymously define a function inline in Python. Otherwise, they must be defined using def, a colon and indenting"
   ]
  },
  {
   "cell_type": "code",
   "execution_count": null,
   "id": "a6675430",
   "metadata": {},
   "outputs": [],
   "source": [
    "fcn = lambda x: np.exp(np.sin(x)**2) #lambda anonymous function"
   ]
  },
  {
   "cell_type": "code",
   "execution_count": null,
   "id": "b176458c",
   "metadata": {},
   "outputs": [],
   "source": [
    "def fcn2(x):\n",
    "    np.exp(np.sin(x)**2)"
   ]
  },
  {
   "cell_type": "code",
   "execution_count": null,
   "id": "f70d109f",
   "metadata": {},
   "outputs": [],
   "source": [
    "fcn(np.linspace(0,2*np.pi,10))"
   ]
  },
  {
   "cell_type": "markdown",
   "id": "f6b9fab7",
   "metadata": {},
   "source": [
    "## Plotting"
   ]
  },
  {
   "cell_type": "code",
   "execution_count": null,
   "id": "2322df35",
   "metadata": {},
   "outputs": [],
   "source": [
    "f1=b2**2\n",
    "plt.plot(b2,f1)"
   ]
  },
  {
   "cell_type": "code",
   "execution_count": null,
   "id": "9c2be3d9",
   "metadata": {},
   "outputs": [],
   "source": [
    "plt.plot(b2, b2**2, 'o', color='green',label = \"line 1\")\n",
    "# plotting the line 2 points \n",
    "plt.plot(b2, b2**3, 'o', color='red',label = \"line 2\")\n",
    "plt.xlabel('x - axis',fontsize=18)\n",
    "# Set the y axis label of the current axis.\n",
    "plt.ylabel('y - axis',fontsize=18)\n",
    "# Set a title of the current axes.\n",
    "plt.title('Two or more lines on same plot with suitable legends ')\n",
    "# show a legend on the plot\n",
    "plt.legend()\n",
    "# Display a figure.\n",
    "plt.show()"
   ]
  },
  {
   "cell_type": "code",
   "execution_count": null,
   "id": "40d8c8cb",
   "metadata": {},
   "outputs": [],
   "source": [
    "[B2,B3] = np.meshgrid(b2,b3)\n",
    "F3 = np.sin(B2) + np.exp(-(B3-4)**2)\n",
    "plt.contour(B2,B3,F3)\n",
    "plt.colorbar          \n",
    "plt.xlabel('B2',fontsize=20)\n",
    "plt.ylabel('B3',fontsize=20)\n",
    "plt.title('F3(B2,B3)',fontsize=20)"
   ]
  },
  {
   "cell_type": "code",
   "execution_count": null,
   "id": "f594e989",
   "metadata": {},
   "outputs": [],
   "source": [
    "plt.contourf(B2,B3,F3)\n",
    "plt.colorbar         \n",
    "plt.xlabel('B2',fontsize=20)\n",
    "plt.ylabel('B3',fontsize=20)\n",
    "plt.title('F3(B2,B3)',fontsize=20)\n",
    "plt.colorbar()"
   ]
  },
  {
   "cell_type": "code",
   "execution_count": null,
   "id": "da546674",
   "metadata": {},
   "outputs": [],
   "source": [
    "plt.pcolor(B2,B3,F3)\n",
    "plt.colorbar         \n",
    "plt.xlabel('B2',fontsize=20)\n",
    "plt.ylabel('B3',fontsize=20)\n",
    "plt.title('F3(B2,B3)',fontsize=20)\n",
    "plt.colorbar()"
   ]
  },
  {
   "cell_type": "code",
   "execution_count": null,
   "id": "64344242",
   "metadata": {},
   "outputs": [],
   "source": [
    "from mpl_toolkits import mplot3d\n",
    "ax = plt.axes(projection='3d')\n",
    "ax.plot_surface(B2,B3,F3, rstride=1, cstride=1,cmap='viridis', edgecolor='none')\n",
    "ax.set_title('surface');\n",
    "plt.colorbar         \n",
    "plt.xlabel('B2',fontsize=20)\n",
    "plt.ylabel('B3',fontsize=20)\n",
    "plt.title('F3(B2,B3)',fontsize=20)"
   ]
  },
  {
   "cell_type": "markdown",
   "id": "1cb970a0",
   "metadata": {},
   "source": [
    "## Saving/Loading\n",
    "Python does not have a built-in compressed format like MATLAB, but its works with a much wider range of data types (saving/loading) and has certain commonly-used data formats like pickles (find tuorial here: https://www.datacamp.com/community/tutorials/pickle-python-tutorial). While we will not cover the use of certain specialized packages here, a commonly used I/O package used in geosciences is geopandas:https://geopandas.org/."
   ]
  }
 ],
 "metadata": {
  "kernelspec": {
   "display_name": "Python 3 (ipykernel)",
   "language": "python",
   "name": "python3"
  },
  "language_info": {
   "codemirror_mode": {
    "name": "ipython",
    "version": 3
   },
   "file_extension": ".py",
   "mimetype": "text/x-python",
   "name": "python",
   "nbconvert_exporter": "python",
   "pygments_lexer": "ipython3",
   "version": "3.10.6"
  }
 },
 "nbformat": 4,
 "nbformat_minor": 5
}
